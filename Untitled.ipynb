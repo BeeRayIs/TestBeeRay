{
 "cells": [
  {
   "cell_type": "markdown",
   "id": "6ca6cb97",
   "metadata": {},
   "source": [
    "this is a notebook"
   ]
  },
  {
   "cell_type": "code",
   "execution_count": 2,
   "id": "f9c6df05",
   "metadata": {},
   "outputs": [
    {
     "name": "stdout",
     "output_type": "stream",
     "text": [
      "hello\n"
     ]
    }
   ],
   "source": [
    "print('hello')"
   ]
  },
  {
   "cell_type": "code",
   "execution_count": 3,
   "id": "7b42d901",
   "metadata": {},
   "outputs": [
    {
     "name": "stdout",
     "output_type": "stream",
     "text": [
      "Available Themes: \n",
      "   chesterish\n",
      "   grade3\n",
      "   gruvboxd\n",
      "   gruvboxl\n",
      "   monokai\n",
      "   oceans16\n",
      "   onedork\n",
      "   solarizedd\n",
      "   solarizedl\n"
     ]
    }
   ],
   "source": [
    "!jt -l"
   ]
  },
  {
   "cell_type": "code",
   "execution_count": 4,
   "id": "b1091f2a",
   "metadata": {},
   "outputs": [
    {
     "name": "stderr",
     "output_type": "stream",
     "text": [
      "usage: jt [-h] [-l] [-t THEME] [-f MONOFONT] [-fs MONOSIZE] [-nf NBFONT]\n",
      "          [-nfs NBFONTSIZE] [-tf TCFONT] [-tfs TCFONTSIZE] [-dfs DFFONTSIZE]\n",
      "          [-ofs OUTFONTSIZE] [-mathfs MATHFONTSIZE] [-m MARGINS]\n",
      "          [-cursw CURSORWIDTH] [-cursc CURSORCOLOR] [-cellw CELLWIDTH]\n",
      "          [-lineh LINEHEIGHT] [-altp] [-altmd] [-altout] [-P] [-T] [-N] [-kl]\n",
      "          [-vim] [-r] [-dfonts]\n",
      "jt: error: unrecognized arguments: -solarizedd\n"
     ]
    }
   ],
   "source": [
    "!jt -solarizedd"
   ]
  },
  {
   "cell_type": "code",
   "execution_count": 3,
   "id": "331b8a05",
   "metadata": {},
   "outputs": [],
   "source": [
    "!jt -t solarizedd -T -N -kl"
   ]
  },
  {
   "cell_type": "code",
   "execution_count": 6,
   "id": "40ae2481",
   "metadata": {},
   "outputs": [],
   "source": [
    "!jt -t onedork -T -N -kl"
   ]
  },
  {
   "cell_type": "markdown",
   "id": "cd5bcea7",
   "metadata": {},
   "source": [
    "normal text\n",
    "\n",
    "\n",
    "\n"
   ]
  },
  {
   "cell_type": "code",
   "execution_count": null,
   "id": "099eb602",
   "metadata": {},
   "outputs": [],
   "source": []
  }
 ],
 "metadata": {
  "celltoolbar": "Raw Cell Format",
  "kernelspec": {
   "display_name": "Python 3 (ipykernel)",
   "language": "python",
   "name": "python3"
  },
  "language_info": {
   "codemirror_mode": {
    "name": "ipython",
    "version": 3
   },
   "file_extension": ".py",
   "mimetype": "text/x-python",
   "name": "python",
   "nbconvert_exporter": "python",
   "pygments_lexer": "ipython3",
   "version": "3.9.13"
  }
 },
 "nbformat": 4,
 "nbformat_minor": 5
}
